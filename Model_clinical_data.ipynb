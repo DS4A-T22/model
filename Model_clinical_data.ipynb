{
 "cells": [
  {
   "cell_type": "code",
   "execution_count": 2,
   "metadata": {},
   "outputs": [],
   "source": [
    "import sys\n",
    "import os\n",
    "sys.path.append(\"../\") \n",
    "import pandas as pd\n",
    "import numpy as np\n",
    "import missingno as msno\n",
    "import matplotlib.pyplot as plt\n",
    "import seaborn as sns\n",
    "import folium\n",
    "import json\n",
    "import requests\n",
    "#import geopandas as gpd\n",
    "from exploratory_data_analysis import omnivida_loader as ov\n",
    "from exploratory_data_analysis import omnivida_util as ovu\n",
    "import statsmodels.api         as sm\n",
    "import statsmodels.formula.api as smf\n",
    "from sklearn.model_selection import StratifiedKFold, GridSearchCV, RandomizedSearchCV\n",
    "from sklearn.ensemble import RandomForestClassifier\n",
    "from sklearn.metrics import roc_curve, auc, accuracy_score\n",
    "from sklearn import tree\n",
    "from sklearn.tree import DecisionTreeClassifier\n",
    "from io import StringIO\n",
    "from IPython.display import Image, SVG\n",
    "from graphviz import Source\n",
    "from sklearn.tree import export_graphviz\n",
    "import pydotplus\n",
    "import xgboost as xgb\n",
    "from xgboost import XGBClassifier\n",
    "\n",
    "%matplotlib inline"
   ]
  },
  {
   "cell_type": "code",
   "execution_count": 140,
   "metadata": {},
   "outputs": [],
   "source": [
    "_, adherence_change = ov.get_adherence_dataset()\n",
    "adherence, adherence_change = ov.get_adherence_dataset()\n",
    "dyspnea = ov.get_dyspnea_dataset()\n",
    "act_disag = ov.get_act_disag_dataset()\n",
    "act = ov.get_act_dataset()\n",
    "vacc = ov.get_vaccination_dataset()"
   ]
  },
  {
   "cell_type": "code",
   "execution_count": 141,
   "metadata": {},
   "outputs": [],
   "source": [
    "act_disag.drop(columns=['Unnamed: 0'], axis = 1, inplace=True)\n",
    "dyspnea.drop(columns=['Unnamed: 0'], axis = 1, inplace = True)\n",
    "act.drop(columns=['Unnamed: 0'], axis = 1, inplace = True)\n",
    "vacc.drop(columns=['Unnamed: 0'], axis = 1, inplace = True)"
   ]
  },
  {
   "cell_type": "code",
   "execution_count": 142,
   "metadata": {},
   "outputs": [],
   "source": [
    "dyspnea_cp = dyspnea.copy()\n",
    "act_disag_cp = act_disag.copy()\n",
    "act_cp = act.copy()\n",
    "vacc_c = vacc.copy()"
   ]
  },
  {
   "cell_type": "code",
   "execution_count": 143,
   "metadata": {},
   "outputs": [],
   "source": [
    "select_fields = ['id_patient', 'survey_date', 'category', 'qualitative_result', 'qualitative_result_change', 'days_since_last_control', 'ongoing_adherence_percentage', 'num_reports']\n",
    "adherence_change_analysis = adherence_change[select_fields]"
   ]
  },
  {
   "cell_type": "markdown",
   "metadata": {},
   "source": [
    "#### Organizing dataset"
   ]
  },
  {
   "cell_type": "code",
   "execution_count": 144,
   "metadata": {},
   "outputs": [],
   "source": [
    "# Dyspnea dataset\n",
    "dyspnea_cp.medical_test = dyspnea_cp.medical_test.astype(int)"
   ]
  },
  {
   "cell_type": "code",
   "execution_count": 145,
   "metadata": {},
   "outputs": [],
   "source": [
    "# act_disag dataset\n",
    "act_disag_cp.A_ACT = act_disag_cp.A_ACT.astype(int)\n",
    "act_disag_cp.B_ACT = act_disag_cp.B_ACT.astype(int)\n",
    "act_disag_cp.C_ACT = act_disag_cp.C_ACT.astype(int)\n",
    "act_disag_cp.D_ACT = act_disag_cp.D_ACT.astype(int)\n",
    "act_disag_cp.FEEDBACK = act_disag_cp.FEEDBACK.astype(int)"
   ]
  },
  {
   "cell_type": "code",
   "execution_count": 146,
   "metadata": {},
   "outputs": [],
   "source": [
    "# Act dataset\n",
    "act_cp.act_score = act_cp.act_score.astype(int)\n",
    "act_cp.result = act_cp.result.astype(int)"
   ]
  },
  {
   "cell_type": "code",
   "execution_count": 147,
   "metadata": {},
   "outputs": [
    {
     "name": "stderr",
     "output_type": "stream",
     "text": [
      "C:\\ProgramData\\Anaconda3\\lib\\site-packages\\ipykernel_launcher.py:4: SettingWithCopyWarning: \n",
      "A value is trying to be set on a copy of a slice from a DataFrame.\n",
      "Try using .loc[row_indexer,col_indexer] = value instead\n",
      "\n",
      "See the caveats in the documentation: https://pandas.pydata.org/pandas-docs/stable/user_guide/indexing.html#returning-a-view-versus-a-copy\n",
      "  after removing the cwd from sys.path.\n",
      "C:\\ProgramData\\Anaconda3\\lib\\site-packages\\ipykernel_launcher.py:5: SettingWithCopyWarning: \n",
      "A value is trying to be set on a copy of a slice from a DataFrame.\n",
      "Try using .loc[row_indexer,col_indexer] = value instead\n",
      "\n",
      "See the caveats in the documentation: https://pandas.pydata.org/pandas-docs/stable/user_guide/indexing.html#returning-a-view-versus-a-copy\n",
      "  \"\"\"\n",
      "C:\\ProgramData\\Anaconda3\\lib\\site-packages\\ipykernel_launcher.py:6: SettingWithCopyWarning: \n",
      "A value is trying to be set on a copy of a slice from a DataFrame.\n",
      "Try using .loc[row_indexer,col_indexer] = value instead\n",
      "\n",
      "See the caveats in the documentation: https://pandas.pydata.org/pandas-docs/stable/user_guide/indexing.html#returning-a-view-versus-a-copy\n",
      "  \n",
      "C:\\ProgramData\\Anaconda3\\lib\\site-packages\\pandas\\core\\generic.py:5303: SettingWithCopyWarning: \n",
      "A value is trying to be set on a copy of a slice from a DataFrame.\n",
      "Try using .loc[row_indexer,col_indexer] = value instead\n",
      "\n",
      "See the caveats in the documentation: https://pandas.pydata.org/pandas-docs/stable/user_guide/indexing.html#returning-a-view-versus-a-copy\n",
      "  self[name] = value\n"
     ]
    }
   ],
   "source": [
    "# Vaccination dataset\n",
    "select_fields_vacc = ['id_patient', 'emission_date', 'regional_eps', 'service_description', 'diagnostic_eps_description', 'auth_quantity']\n",
    "vacc_cp = vacc_c[select_fields_vacc]\n",
    "vacc_cp['regional_eps'] = vacc_cp['regional_eps'].astype('category')\n",
    "vacc_cp['service_description'] = vacc_cp['service_description'].astype('category')\n",
    "vacc_cp['diagnostic_eps_description'] = vacc_cp['diagnostic_eps_description'].astype('category')\n",
    "vacc_cp.auth_quantity = vacc_cp.auth_quantity.astype(int)"
   ]
  },
  {
   "cell_type": "markdown",
   "metadata": {},
   "source": [
    "Dyspnea + adherence_change_analysis dataset"
   ]
  },
  {
   "cell_type": "code",
   "execution_count": 148,
   "metadata": {},
   "outputs": [],
   "source": [
    "adherence_11 = adherence_change_analysis.merge(dyspnea_cp, how='left', on='id_patient')"
   ]
  },
  {
   "cell_type": "markdown",
   "metadata": {},
   "source": [
    "#### PART 1 : Merging datasets using function"
   ]
  },
  {
   "cell_type": "code",
   "execution_count": 149,
   "metadata": {},
   "outputs": [
    {
     "data": {
      "text/html": [
       "<div>\n",
       "<style scoped>\n",
       "    .dataframe tbody tr th:only-of-type {\n",
       "        vertical-align: middle;\n",
       "    }\n",
       "\n",
       "    .dataframe tbody tr th {\n",
       "        vertical-align: top;\n",
       "    }\n",
       "\n",
       "    .dataframe thead th {\n",
       "        text-align: right;\n",
       "    }\n",
       "</style>\n",
       "<table border=\"1\" class=\"dataframe\">\n",
       "  <thead>\n",
       "    <tr style=\"text-align: right;\">\n",
       "      <th></th>\n",
       "      <th>id_patient</th>\n",
       "      <th>survey_date</th>\n",
       "      <th>category</th>\n",
       "      <th>qualitative_result</th>\n",
       "      <th>qualitative_result_change</th>\n",
       "      <th>days_since_last_control</th>\n",
       "      <th>ongoing_adherence_percentage</th>\n",
       "      <th>num_reports</th>\n",
       "      <th>days_since_discharge_date</th>\n",
       "      <th>discharge_date</th>\n",
       "      <th>medical_test</th>\n",
       "    </tr>\n",
       "  </thead>\n",
       "  <tbody>\n",
       "    <tr>\n",
       "      <th>0</th>\n",
       "      <td>524006</td>\n",
       "      <td>2015-09-10</td>\n",
       "      <td>A-</td>\n",
       "      <td>1.0</td>\n",
       "      <td>0.0</td>\n",
       "      <td>248.0</td>\n",
       "      <td>100.000000</td>\n",
       "      <td>2</td>\n",
       "      <td>0.0</td>\n",
       "      <td>2015-09-10</td>\n",
       "      <td>4</td>\n",
       "    </tr>\n",
       "    <tr>\n",
       "      <th>1</th>\n",
       "      <td>524006</td>\n",
       "      <td>2015-10-13</td>\n",
       "      <td>A-</td>\n",
       "      <td>0.0</td>\n",
       "      <td>-1.0</td>\n",
       "      <td>33.0</td>\n",
       "      <td>66.666667</td>\n",
       "      <td>3</td>\n",
       "      <td>33.0</td>\n",
       "      <td>2015-09-10</td>\n",
       "      <td>4</td>\n",
       "    </tr>\n",
       "    <tr>\n",
       "      <th>2</th>\n",
       "      <td>524006</td>\n",
       "      <td>2015-11-09</td>\n",
       "      <td>A-</td>\n",
       "      <td>0.0</td>\n",
       "      <td>0.0</td>\n",
       "      <td>27.0</td>\n",
       "      <td>50.000000</td>\n",
       "      <td>4</td>\n",
       "      <td>60.0</td>\n",
       "      <td>2015-09-10</td>\n",
       "      <td>4</td>\n",
       "    </tr>\n",
       "    <tr>\n",
       "      <th>3</th>\n",
       "      <td>524006</td>\n",
       "      <td>2016-06-02</td>\n",
       "      <td>A-</td>\n",
       "      <td>1.0</td>\n",
       "      <td>1.0</td>\n",
       "      <td>206.0</td>\n",
       "      <td>60.000000</td>\n",
       "      <td>5</td>\n",
       "      <td>266.0</td>\n",
       "      <td>2015-09-10</td>\n",
       "      <td>4</td>\n",
       "    </tr>\n",
       "    <tr>\n",
       "      <th>4</th>\n",
       "      <td>524006</td>\n",
       "      <td>2016-10-07</td>\n",
       "      <td>A-</td>\n",
       "      <td>1.0</td>\n",
       "      <td>0.0</td>\n",
       "      <td>127.0</td>\n",
       "      <td>66.666667</td>\n",
       "      <td>6</td>\n",
       "      <td>0.0</td>\n",
       "      <td>2016-10-07</td>\n",
       "      <td>3</td>\n",
       "    </tr>\n",
       "    <tr>\n",
       "      <th>...</th>\n",
       "      <td>...</td>\n",
       "      <td>...</td>\n",
       "      <td>...</td>\n",
       "      <td>...</td>\n",
       "      <td>...</td>\n",
       "      <td>...</td>\n",
       "      <td>...</td>\n",
       "      <td>...</td>\n",
       "      <td>...</td>\n",
       "      <td>...</td>\n",
       "      <td>...</td>\n",
       "    </tr>\n",
       "    <tr>\n",
       "      <th>538</th>\n",
       "      <td>1828862</td>\n",
       "      <td>2019-07-23</td>\n",
       "      <td>N+</td>\n",
       "      <td>0.0</td>\n",
       "      <td>0.0</td>\n",
       "      <td>57.0</td>\n",
       "      <td>40.909091</td>\n",
       "      <td>22</td>\n",
       "      <td>839.0</td>\n",
       "      <td>2017-04-05</td>\n",
       "      <td>1</td>\n",
       "    </tr>\n",
       "    <tr>\n",
       "      <th>539</th>\n",
       "      <td>1828862</td>\n",
       "      <td>2020-03-03</td>\n",
       "      <td>N+</td>\n",
       "      <td>0.0</td>\n",
       "      <td>0.0</td>\n",
       "      <td>224.0</td>\n",
       "      <td>39.130435</td>\n",
       "      <td>23</td>\n",
       "      <td>1063.0</td>\n",
       "      <td>2017-04-05</td>\n",
       "      <td>1</td>\n",
       "    </tr>\n",
       "    <tr>\n",
       "      <th>540</th>\n",
       "      <td>1998401</td>\n",
       "      <td>2016-06-02</td>\n",
       "      <td>A-</td>\n",
       "      <td>0.0</td>\n",
       "      <td>0.0</td>\n",
       "      <td>129.0</td>\n",
       "      <td>70.000000</td>\n",
       "      <td>10</td>\n",
       "      <td>0.0</td>\n",
       "      <td>2016-06-02</td>\n",
       "      <td>0</td>\n",
       "    </tr>\n",
       "    <tr>\n",
       "      <th>541</th>\n",
       "      <td>1998401</td>\n",
       "      <td>2016-09-12</td>\n",
       "      <td>A-</td>\n",
       "      <td>0.0</td>\n",
       "      <td>0.0</td>\n",
       "      <td>102.0</td>\n",
       "      <td>63.636364</td>\n",
       "      <td>11</td>\n",
       "      <td>102.0</td>\n",
       "      <td>2016-06-02</td>\n",
       "      <td>0</td>\n",
       "    </tr>\n",
       "    <tr>\n",
       "      <th>542</th>\n",
       "      <td>1998401</td>\n",
       "      <td>2018-01-29</td>\n",
       "      <td>A-</td>\n",
       "      <td>1.0</td>\n",
       "      <td>1.0</td>\n",
       "      <td>504.0</td>\n",
       "      <td>66.666667</td>\n",
       "      <td>12</td>\n",
       "      <td>606.0</td>\n",
       "      <td>2016-06-02</td>\n",
       "      <td>0</td>\n",
       "    </tr>\n",
       "  </tbody>\n",
       "</table>\n",
       "<p>543 rows × 11 columns</p>\n",
       "</div>"
      ],
      "text/plain": [
       "     id_patient survey_date category  qualitative_result  \\\n",
       "0        524006  2015-09-10       A-                 1.0   \n",
       "1        524006  2015-10-13       A-                 0.0   \n",
       "2        524006  2015-11-09       A-                 0.0   \n",
       "3        524006  2016-06-02       A-                 1.0   \n",
       "4        524006  2016-10-07       A-                 1.0   \n",
       "..          ...         ...      ...                 ...   \n",
       "538     1828862  2019-07-23       N+                 0.0   \n",
       "539     1828862  2020-03-03       N+                 0.0   \n",
       "540     1998401  2016-06-02       A-                 0.0   \n",
       "541     1998401  2016-09-12       A-                 0.0   \n",
       "542     1998401  2018-01-29       A-                 1.0   \n",
       "\n",
       "     qualitative_result_change  days_since_last_control  \\\n",
       "0                          0.0                    248.0   \n",
       "1                         -1.0                     33.0   \n",
       "2                          0.0                     27.0   \n",
       "3                          1.0                    206.0   \n",
       "4                          0.0                    127.0   \n",
       "..                         ...                      ...   \n",
       "538                        0.0                     57.0   \n",
       "539                        0.0                    224.0   \n",
       "540                        0.0                    129.0   \n",
       "541                        0.0                    102.0   \n",
       "542                        1.0                    504.0   \n",
       "\n",
       "     ongoing_adherence_percentage  num_reports  days_since_discharge_date  \\\n",
       "0                      100.000000            2                        0.0   \n",
       "1                       66.666667            3                       33.0   \n",
       "2                       50.000000            4                       60.0   \n",
       "3                       60.000000            5                      266.0   \n",
       "4                       66.666667            6                        0.0   \n",
       "..                            ...          ...                        ...   \n",
       "538                     40.909091           22                      839.0   \n",
       "539                     39.130435           23                     1063.0   \n",
       "540                     70.000000           10                        0.0   \n",
       "541                     63.636364           11                      102.0   \n",
       "542                     66.666667           12                      606.0   \n",
       "\n",
       "    discharge_date  medical_test  \n",
       "0       2015-09-10             4  \n",
       "1       2015-09-10             4  \n",
       "2       2015-09-10             4  \n",
       "3       2015-09-10             4  \n",
       "4       2016-10-07             3  \n",
       "..             ...           ...  \n",
       "538     2017-04-05             1  \n",
       "539     2017-04-05             1  \n",
       "540     2016-06-02             0  \n",
       "541     2016-06-02             0  \n",
       "542     2016-06-02             0  \n",
       "\n",
       "[543 rows x 11 columns]"
      ]
     },
     "execution_count": 149,
     "metadata": {},
     "output_type": "execute_result"
    }
   ],
   "source": [
    "# Merging adherence and dyspnea_cp\n",
    "merge_adh_dysp = ovu.merge_on_closest_date(df1=adherence_change_analysis, \n",
    "                                          df2=dyspnea_cp, \n",
    "                                          date_field_df1='survey_date', \n",
    "                                          date_field_df2='discharge_date', \n",
    "                                          merge_on='id_patient')\n",
    "merge_adh_dysp"
   ]
  },
  {
   "cell_type": "code",
   "execution_count": 150,
   "metadata": {},
   "outputs": [
    {
     "data": {
      "text/html": [
       "<div>\n",
       "<style scoped>\n",
       "    .dataframe tbody tr th:only-of-type {\n",
       "        vertical-align: middle;\n",
       "    }\n",
       "\n",
       "    .dataframe tbody tr th {\n",
       "        vertical-align: top;\n",
       "    }\n",
       "\n",
       "    .dataframe thead th {\n",
       "        text-align: right;\n",
       "    }\n",
       "</style>\n",
       "<table border=\"1\" class=\"dataframe\">\n",
       "  <thead>\n",
       "    <tr style=\"text-align: right;\">\n",
       "      <th></th>\n",
       "      <th>id_patient</th>\n",
       "      <th>survey_date</th>\n",
       "      <th>category</th>\n",
       "      <th>qualitative_result</th>\n",
       "      <th>qualitative_result_change</th>\n",
       "      <th>days_since_last_control</th>\n",
       "      <th>ongoing_adherence_percentage</th>\n",
       "      <th>num_reports</th>\n",
       "      <th>days_since_last_dyspnea_test</th>\n",
       "      <th>discharge_date</th>\n",
       "      <th>medical_test</th>\n",
       "    </tr>\n",
       "  </thead>\n",
       "  <tbody>\n",
       "    <tr>\n",
       "      <th>0</th>\n",
       "      <td>524006</td>\n",
       "      <td>2015-09-10</td>\n",
       "      <td>A-</td>\n",
       "      <td>1.0</td>\n",
       "      <td>0.0</td>\n",
       "      <td>248.0</td>\n",
       "      <td>100.000000</td>\n",
       "      <td>2</td>\n",
       "      <td>0.0</td>\n",
       "      <td>2015-09-10</td>\n",
       "      <td>4</td>\n",
       "    </tr>\n",
       "    <tr>\n",
       "      <th>4</th>\n",
       "      <td>524006</td>\n",
       "      <td>2016-10-07</td>\n",
       "      <td>A-</td>\n",
       "      <td>1.0</td>\n",
       "      <td>0.0</td>\n",
       "      <td>127.0</td>\n",
       "      <td>66.666667</td>\n",
       "      <td>6</td>\n",
       "      <td>0.0</td>\n",
       "      <td>2016-10-07</td>\n",
       "      <td>3</td>\n",
       "    </tr>\n",
       "    <tr>\n",
       "      <th>6</th>\n",
       "      <td>524006</td>\n",
       "      <td>2017-01-27</td>\n",
       "      <td>A-</td>\n",
       "      <td>1.0</td>\n",
       "      <td>0.0</td>\n",
       "      <td>80.0</td>\n",
       "      <td>75.000000</td>\n",
       "      <td>8</td>\n",
       "      <td>0.0</td>\n",
       "      <td>2017-01-27</td>\n",
       "      <td>1</td>\n",
       "    </tr>\n",
       "    <tr>\n",
       "      <th>8</th>\n",
       "      <td>524006</td>\n",
       "      <td>2017-05-10</td>\n",
       "      <td>A-</td>\n",
       "      <td>0.0</td>\n",
       "      <td>-1.0</td>\n",
       "      <td>28.0</td>\n",
       "      <td>70.000000</td>\n",
       "      <td>10</td>\n",
       "      <td>0.0</td>\n",
       "      <td>2017-05-10</td>\n",
       "      <td>1</td>\n",
       "    </tr>\n",
       "    <tr>\n",
       "      <th>10</th>\n",
       "      <td>524006</td>\n",
       "      <td>2017-08-25</td>\n",
       "      <td>A-</td>\n",
       "      <td>1.0</td>\n",
       "      <td>0.0</td>\n",
       "      <td>28.0</td>\n",
       "      <td>75.000000</td>\n",
       "      <td>12</td>\n",
       "      <td>0.0</td>\n",
       "      <td>2017-08-25</td>\n",
       "      <td>1</td>\n",
       "    </tr>\n",
       "    <tr>\n",
       "      <th>...</th>\n",
       "      <td>...</td>\n",
       "      <td>...</td>\n",
       "      <td>...</td>\n",
       "      <td>...</td>\n",
       "      <td>...</td>\n",
       "      <td>...</td>\n",
       "      <td>...</td>\n",
       "      <td>...</td>\n",
       "      <td>...</td>\n",
       "      <td>...</td>\n",
       "      <td>...</td>\n",
       "    </tr>\n",
       "    <tr>\n",
       "      <th>508</th>\n",
       "      <td>1764814</td>\n",
       "      <td>2017-04-26</td>\n",
       "      <td>A</td>\n",
       "      <td>1.0</td>\n",
       "      <td>0.0</td>\n",
       "      <td>58.0</td>\n",
       "      <td>93.333333</td>\n",
       "      <td>15</td>\n",
       "      <td>0.0</td>\n",
       "      <td>2017-04-26</td>\n",
       "      <td>2</td>\n",
       "    </tr>\n",
       "    <tr>\n",
       "      <th>509</th>\n",
       "      <td>1764814</td>\n",
       "      <td>2017-05-10</td>\n",
       "      <td>A</td>\n",
       "      <td>1.0</td>\n",
       "      <td>0.0</td>\n",
       "      <td>14.0</td>\n",
       "      <td>93.750000</td>\n",
       "      <td>16</td>\n",
       "      <td>14.0</td>\n",
       "      <td>2017-04-26</td>\n",
       "      <td>2</td>\n",
       "    </tr>\n",
       "    <tr>\n",
       "      <th>515</th>\n",
       "      <td>1801732</td>\n",
       "      <td>2015-07-02</td>\n",
       "      <td>M</td>\n",
       "      <td>0.0</td>\n",
       "      <td>-1.0</td>\n",
       "      <td>92.0</td>\n",
       "      <td>50.000000</td>\n",
       "      <td>2</td>\n",
       "      <td>0.0</td>\n",
       "      <td>2015-07-02</td>\n",
       "      <td>1</td>\n",
       "    </tr>\n",
       "    <tr>\n",
       "      <th>526</th>\n",
       "      <td>1828862</td>\n",
       "      <td>2017-04-05</td>\n",
       "      <td>N+</td>\n",
       "      <td>0.0</td>\n",
       "      <td>-1.0</td>\n",
       "      <td>27.0</td>\n",
       "      <td>60.000000</td>\n",
       "      <td>10</td>\n",
       "      <td>0.0</td>\n",
       "      <td>2017-04-05</td>\n",
       "      <td>1</td>\n",
       "    </tr>\n",
       "    <tr>\n",
       "      <th>540</th>\n",
       "      <td>1998401</td>\n",
       "      <td>2016-06-02</td>\n",
       "      <td>A-</td>\n",
       "      <td>0.0</td>\n",
       "      <td>0.0</td>\n",
       "      <td>129.0</td>\n",
       "      <td>70.000000</td>\n",
       "      <td>10</td>\n",
       "      <td>0.0</td>\n",
       "      <td>2016-06-02</td>\n",
       "      <td>0</td>\n",
       "    </tr>\n",
       "  </tbody>\n",
       "</table>\n",
       "<p>106 rows × 11 columns</p>\n",
       "</div>"
      ],
      "text/plain": [
       "     id_patient survey_date category  qualitative_result  \\\n",
       "0        524006  2015-09-10       A-                 1.0   \n",
       "4        524006  2016-10-07       A-                 1.0   \n",
       "6        524006  2017-01-27       A-                 1.0   \n",
       "8        524006  2017-05-10       A-                 0.0   \n",
       "10       524006  2017-08-25       A-                 1.0   \n",
       "..          ...         ...      ...                 ...   \n",
       "508     1764814  2017-04-26        A                 1.0   \n",
       "509     1764814  2017-05-10        A                 1.0   \n",
       "515     1801732  2015-07-02        M                 0.0   \n",
       "526     1828862  2017-04-05       N+                 0.0   \n",
       "540     1998401  2016-06-02       A-                 0.0   \n",
       "\n",
       "     qualitative_result_change  days_since_last_control  \\\n",
       "0                          0.0                    248.0   \n",
       "4                          0.0                    127.0   \n",
       "6                          0.0                     80.0   \n",
       "8                         -1.0                     28.0   \n",
       "10                         0.0                     28.0   \n",
       "..                         ...                      ...   \n",
       "508                        0.0                     58.0   \n",
       "509                        0.0                     14.0   \n",
       "515                       -1.0                     92.0   \n",
       "526                       -1.0                     27.0   \n",
       "540                        0.0                    129.0   \n",
       "\n",
       "     ongoing_adherence_percentage  num_reports  days_since_last_dyspnea_test  \\\n",
       "0                      100.000000            2                           0.0   \n",
       "4                       66.666667            6                           0.0   \n",
       "6                       75.000000            8                           0.0   \n",
       "8                       70.000000           10                           0.0   \n",
       "10                      75.000000           12                           0.0   \n",
       "..                            ...          ...                           ...   \n",
       "508                     93.333333           15                           0.0   \n",
       "509                     93.750000           16                          14.0   \n",
       "515                     50.000000            2                           0.0   \n",
       "526                     60.000000           10                           0.0   \n",
       "540                     70.000000           10                           0.0   \n",
       "\n",
       "    discharge_date  medical_test  \n",
       "0       2015-09-10             4  \n",
       "4       2016-10-07             3  \n",
       "6       2017-01-27             1  \n",
       "8       2017-05-10             1  \n",
       "10      2017-08-25             1  \n",
       "..             ...           ...  \n",
       "508     2017-04-26             2  \n",
       "509     2017-04-26             2  \n",
       "515     2015-07-02             1  \n",
       "526     2017-04-05             1  \n",
       "540     2016-06-02             0  \n",
       "\n",
       "[106 rows x 11 columns]"
      ]
     },
     "execution_count": 150,
     "metadata": {},
     "output_type": "execute_result"
    }
   ],
   "source": [
    "merge_adh_dysp.rename(columns={'days_since_discharge_date':'days_since_last_dyspnea_test'}, inplace=True)\n",
    "\n",
    "period = 30\n",
    "aclq_timely = merge_adh_dysp[merge_adh_dysp.days_since_last_dyspnea_test <= period]\n",
    "aclq_late = merge_adh_dysp[merge_adh_dysp.days_since_last_dyspnea_test > period]\n",
    "aclq_timely"
   ]
  },
  {
   "cell_type": "code",
   "execution_count": 151,
   "metadata": {},
   "outputs": [
    {
     "data": {
      "text/html": [
       "<div>\n",
       "<style scoped>\n",
       "    .dataframe tbody tr th:only-of-type {\n",
       "        vertical-align: middle;\n",
       "    }\n",
       "\n",
       "    .dataframe tbody tr th {\n",
       "        vertical-align: top;\n",
       "    }\n",
       "\n",
       "    .dataframe thead th {\n",
       "        text-align: right;\n",
       "    }\n",
       "</style>\n",
       "<table border=\"1\" class=\"dataframe\">\n",
       "  <thead>\n",
       "    <tr style=\"text-align: right;\">\n",
       "      <th></th>\n",
       "      <th>days_since_last_dyspnea_test</th>\n",
       "      <th>id_patient</th>\n",
       "      <th>medical_test</th>\n",
       "      <th>survey_date</th>\n",
       "    </tr>\n",
       "  </thead>\n",
       "  <tbody>\n",
       "    <tr>\n",
       "      <th>0</th>\n",
       "      <td>0.0</td>\n",
       "      <td>524006.0</td>\n",
       "      <td>4.0</td>\n",
       "      <td>2015-09-10</td>\n",
       "    </tr>\n",
       "    <tr>\n",
       "      <th>1</th>\n",
       "      <td>0.0</td>\n",
       "      <td>524006.0</td>\n",
       "      <td>3.0</td>\n",
       "      <td>2016-10-07</td>\n",
       "    </tr>\n",
       "    <tr>\n",
       "      <th>2</th>\n",
       "      <td>0.0</td>\n",
       "      <td>524006.0</td>\n",
       "      <td>1.0</td>\n",
       "      <td>2017-01-27</td>\n",
       "    </tr>\n",
       "    <tr>\n",
       "      <th>3</th>\n",
       "      <td>0.0</td>\n",
       "      <td>524006.0</td>\n",
       "      <td>1.0</td>\n",
       "      <td>2017-05-10</td>\n",
       "    </tr>\n",
       "    <tr>\n",
       "      <th>4</th>\n",
       "      <td>0.0</td>\n",
       "      <td>524006.0</td>\n",
       "      <td>1.0</td>\n",
       "      <td>2017-08-25</td>\n",
       "    </tr>\n",
       "    <tr>\n",
       "      <th>...</th>\n",
       "      <td>...</td>\n",
       "      <td>...</td>\n",
       "      <td>...</td>\n",
       "      <td>...</td>\n",
       "    </tr>\n",
       "    <tr>\n",
       "      <th>99</th>\n",
       "      <td>0.0</td>\n",
       "      <td>1764814.0</td>\n",
       "      <td>2.0</td>\n",
       "      <td>2017-04-26</td>\n",
       "    </tr>\n",
       "    <tr>\n",
       "      <th>100</th>\n",
       "      <td>14.0</td>\n",
       "      <td>1764814.0</td>\n",
       "      <td>2.0</td>\n",
       "      <td>2017-05-10</td>\n",
       "    </tr>\n",
       "    <tr>\n",
       "      <th>101</th>\n",
       "      <td>0.0</td>\n",
       "      <td>1801732.0</td>\n",
       "      <td>1.0</td>\n",
       "      <td>2015-07-02</td>\n",
       "    </tr>\n",
       "    <tr>\n",
       "      <th>102</th>\n",
       "      <td>0.0</td>\n",
       "      <td>1828862.0</td>\n",
       "      <td>1.0</td>\n",
       "      <td>2017-04-05</td>\n",
       "    </tr>\n",
       "    <tr>\n",
       "      <th>103</th>\n",
       "      <td>0.0</td>\n",
       "      <td>1998401.0</td>\n",
       "      <td>0.0</td>\n",
       "      <td>2016-06-02</td>\n",
       "    </tr>\n",
       "  </tbody>\n",
       "</table>\n",
       "<p>104 rows × 4 columns</p>\n",
       "</div>"
      ],
      "text/plain": [
       "     days_since_last_dyspnea_test  id_patient  medical_test survey_date\n",
       "0                             0.0    524006.0           4.0  2015-09-10\n",
       "1                             0.0    524006.0           3.0  2016-10-07\n",
       "2                             0.0    524006.0           1.0  2017-01-27\n",
       "3                             0.0    524006.0           1.0  2017-05-10\n",
       "4                             0.0    524006.0           1.0  2017-08-25\n",
       "..                            ...         ...           ...         ...\n",
       "99                            0.0   1764814.0           2.0  2017-04-26\n",
       "100                          14.0   1764814.0           2.0  2017-05-10\n",
       "101                           0.0   1801732.0           1.0  2015-07-02\n",
       "102                           0.0   1828862.0           1.0  2017-04-05\n",
       "103                           0.0   1998401.0           0.0  2016-06-02\n",
       "\n",
       "[104 rows x 4 columns]"
      ]
     },
     "execution_count": 151,
     "metadata": {},
     "output_type": "execute_result"
    }
   ],
   "source": [
    "aclq_timely_summary = pd.DataFrame()\n",
    "for (patient, survey_date), df in aclq_timely.groupby(['id_patient', 'survey_date']):\n",
    "    aclq_timely_summary = aclq_timely_summary.append({\n",
    "                'id_patient': patient,\n",
    "                'survey_date': survey_date,\n",
    "                'medical_test': df.medical_test.sum(),\n",
    "                'days_since_last_dyspnea_test': df.iloc[-1]['days_since_last_dyspnea_test']\n",
    "            }, ignore_index=True)\n",
    "\n",
    "aclq_timely_summary"
   ]
  },
  {
   "cell_type": "code",
   "execution_count": 152,
   "metadata": {},
   "outputs": [
    {
     "name": "stdout",
     "output_type": "stream",
     "text": [
      "<class 'pandas.core.frame.DataFrame'>\n",
      "Int64Index: 4773 entries, 0 to 4772\n",
      "Data columns (total 10 columns):\n",
      " #   Column                        Non-Null Count  Dtype         \n",
      "---  ------                        --------------  -----         \n",
      " 0   id_patient                    4773 non-null   int64         \n",
      " 1   survey_date                   4773 non-null   datetime64[ns]\n",
      " 2   category                      4773 non-null   category      \n",
      " 3   qualitative_result            4773 non-null   float64       \n",
      " 4   qualitative_result_change     3933 non-null   float64       \n",
      " 5   days_since_last_control       3933 non-null   float64       \n",
      " 6   ongoing_adherence_percentage  4773 non-null   float64       \n",
      " 7   num_reports                   4773 non-null   int64         \n",
      " 8   days_since_last_dyspnea_test  104 non-null    float64       \n",
      " 9   medical_test                  104 non-null    float64       \n",
      "dtypes: category(1), datetime64[ns](1), float64(6), int64(2)\n",
      "memory usage: 377.7 KB\n"
     ]
    }
   ],
   "source": [
    "# Merging adherence with aclq_timely_summary \n",
    "merge_adh_dysp = adherence_change_analysis.merge(aclq_timely_summary, how='left', on=['id_patient', 'survey_date'])\n",
    "merge_adh_dysp.info()"
   ]
  },
  {
   "cell_type": "code",
   "execution_count": 153,
   "metadata": {},
   "outputs": [],
   "source": [
    "merge_adh_dysp['qualitative_result_change'] = merge_adh_dysp['qualitative_result_change'].fillna(0)\n",
    "merge_adh_dysp['days_since_last_control'] = merge_adh_dysp['days_since_last_control'].fillna(0)\n",
    "merge_adh_dysp['days_since_last_dyspnea_test'] = merge_adh_dysp['days_since_last_dyspnea_test'].fillna(0)\n",
    "merge_adh_dysp['medical_test'] = merge_adh_dysp['medical_test'].fillna(0)"
   ]
  },
  {
   "cell_type": "code",
   "execution_count": 154,
   "metadata": {},
   "outputs": [
    {
     "name": "stdout",
     "output_type": "stream",
     "text": [
      "<class 'pandas.core.frame.DataFrame'>\n",
      "Int64Index: 4773 entries, 0 to 4772\n",
      "Data columns (total 10 columns):\n",
      " #   Column                        Non-Null Count  Dtype         \n",
      "---  ------                        --------------  -----         \n",
      " 0   id_patient                    4773 non-null   int64         \n",
      " 1   survey_date                   4773 non-null   datetime64[ns]\n",
      " 2   category                      4773 non-null   category      \n",
      " 3   qualitative_result            4773 non-null   float64       \n",
      " 4   qualitative_result_change     4773 non-null   float64       \n",
      " 5   days_since_last_control       4773 non-null   float64       \n",
      " 6   ongoing_adherence_percentage  4773 non-null   float64       \n",
      " 7   num_reports                   4773 non-null   int64         \n",
      " 8   days_since_last_dyspnea_test  4773 non-null   float64       \n",
      " 9   medical_test                  4773 non-null   float64       \n",
      "dtypes: category(1), datetime64[ns](1), float64(6), int64(2)\n",
      "memory usage: 377.7 KB\n"
     ]
    }
   ],
   "source": [
    "merge_all_dyspnea = merge_adh_dysp.copy()\n",
    "merge_all_dyspnea.info()"
   ]
  },
  {
   "cell_type": "markdown",
   "metadata": {},
   "source": [
    "#### Part 2: adherence + act datasets"
   ]
  },
  {
   "cell_type": "code",
   "execution_count": 155,
   "metadata": {},
   "outputs": [
    {
     "data": {
      "text/html": [
       "<div>\n",
       "<style scoped>\n",
       "    .dataframe tbody tr th:only-of-type {\n",
       "        vertical-align: middle;\n",
       "    }\n",
       "\n",
       "    .dataframe tbody tr th {\n",
       "        vertical-align: top;\n",
       "    }\n",
       "\n",
       "    .dataframe thead th {\n",
       "        text-align: right;\n",
       "    }\n",
       "</style>\n",
       "<table border=\"1\" class=\"dataframe\">\n",
       "  <thead>\n",
       "    <tr style=\"text-align: right;\">\n",
       "      <th></th>\n",
       "      <th>id_patient</th>\n",
       "      <th>date_result</th>\n",
       "      <th>A_ACT</th>\n",
       "      <th>B_ACT</th>\n",
       "      <th>C_ACT</th>\n",
       "      <th>D_ACT</th>\n",
       "      <th>FEEDBACK</th>\n",
       "    </tr>\n",
       "  </thead>\n",
       "  <tbody>\n",
       "    <tr>\n",
       "      <th>0</th>\n",
       "      <td>535255</td>\n",
       "      <td>2012-06-29</td>\n",
       "      <td>0</td>\n",
       "      <td>0</td>\n",
       "      <td>2</td>\n",
       "      <td>0</td>\n",
       "      <td>0</td>\n",
       "    </tr>\n",
       "    <tr>\n",
       "      <th>1</th>\n",
       "      <td>535255</td>\n",
       "      <td>2012-06-29</td>\n",
       "      <td>0</td>\n",
       "      <td>2</td>\n",
       "      <td>0</td>\n",
       "      <td>0</td>\n",
       "      <td>0</td>\n",
       "    </tr>\n",
       "    <tr>\n",
       "      <th>2</th>\n",
       "      <td>535255</td>\n",
       "      <td>2012-06-29</td>\n",
       "      <td>4</td>\n",
       "      <td>0</td>\n",
       "      <td>0</td>\n",
       "      <td>0</td>\n",
       "      <td>0</td>\n",
       "    </tr>\n",
       "    <tr>\n",
       "      <th>3</th>\n",
       "      <td>535255</td>\n",
       "      <td>2012-06-29</td>\n",
       "      <td>0</td>\n",
       "      <td>0</td>\n",
       "      <td>0</td>\n",
       "      <td>2</td>\n",
       "      <td>0</td>\n",
       "    </tr>\n",
       "    <tr>\n",
       "      <th>4</th>\n",
       "      <td>535255</td>\n",
       "      <td>2012-06-29</td>\n",
       "      <td>0</td>\n",
       "      <td>0</td>\n",
       "      <td>0</td>\n",
       "      <td>0</td>\n",
       "      <td>4</td>\n",
       "    </tr>\n",
       "    <tr>\n",
       "      <th>...</th>\n",
       "      <td>...</td>\n",
       "      <td>...</td>\n",
       "      <td>...</td>\n",
       "      <td>...</td>\n",
       "      <td>...</td>\n",
       "      <td>...</td>\n",
       "      <td>...</td>\n",
       "    </tr>\n",
       "    <tr>\n",
       "      <th>8570</th>\n",
       "      <td>744564</td>\n",
       "      <td>2020-05-20</td>\n",
       "      <td>0</td>\n",
       "      <td>0</td>\n",
       "      <td>2</td>\n",
       "      <td>0</td>\n",
       "      <td>0</td>\n",
       "    </tr>\n",
       "    <tr>\n",
       "      <th>8571</th>\n",
       "      <td>744564</td>\n",
       "      <td>2020-05-20</td>\n",
       "      <td>0</td>\n",
       "      <td>2</td>\n",
       "      <td>0</td>\n",
       "      <td>0</td>\n",
       "      <td>0</td>\n",
       "    </tr>\n",
       "    <tr>\n",
       "      <th>8572</th>\n",
       "      <td>744564</td>\n",
       "      <td>2020-05-20</td>\n",
       "      <td>1</td>\n",
       "      <td>0</td>\n",
       "      <td>0</td>\n",
       "      <td>0</td>\n",
       "      <td>0</td>\n",
       "    </tr>\n",
       "    <tr>\n",
       "      <th>8573</th>\n",
       "      <td>744564</td>\n",
       "      <td>2020-05-20</td>\n",
       "      <td>0</td>\n",
       "      <td>0</td>\n",
       "      <td>0</td>\n",
       "      <td>2</td>\n",
       "      <td>0</td>\n",
       "    </tr>\n",
       "    <tr>\n",
       "      <th>8574</th>\n",
       "      <td>744564</td>\n",
       "      <td>2020-05-20</td>\n",
       "      <td>0</td>\n",
       "      <td>0</td>\n",
       "      <td>0</td>\n",
       "      <td>0</td>\n",
       "      <td>4</td>\n",
       "    </tr>\n",
       "  </tbody>\n",
       "</table>\n",
       "<p>8575 rows × 7 columns</p>\n",
       "</div>"
      ],
      "text/plain": [
       "      id_patient date_result  A_ACT  B_ACT  C_ACT  D_ACT  FEEDBACK\n",
       "0         535255  2012-06-29      0      0      2      0         0\n",
       "1         535255  2012-06-29      0      2      0      0         0\n",
       "2         535255  2012-06-29      4      0      0      0         0\n",
       "3         535255  2012-06-29      0      0      0      2         0\n",
       "4         535255  2012-06-29      0      0      0      0         4\n",
       "...          ...         ...    ...    ...    ...    ...       ...\n",
       "8570      744564  2020-05-20      0      0      2      0         0\n",
       "8571      744564  2020-05-20      0      2      0      0         0\n",
       "8572      744564  2020-05-20      1      0      0      0         0\n",
       "8573      744564  2020-05-20      0      0      0      2         0\n",
       "8574      744564  2020-05-20      0      0      0      0         4\n",
       "\n",
       "[8575 rows x 7 columns]"
      ]
     },
     "execution_count": 155,
     "metadata": {},
     "output_type": "execute_result"
    }
   ],
   "source": [
    "act_disag_cp.rename(columns={'result_date':'date_result'}, inplace = True)\n",
    "act_disag_cp.shape\n",
    "act_disag_cp"
   ]
  },
  {
   "cell_type": "code",
   "execution_count": 165,
   "metadata": {},
   "outputs": [
    {
     "name": "stdout",
     "output_type": "stream",
     "text": [
      "merge_adh_act dimensions:  (13590, 15)\n"
     ]
    }
   ],
   "source": [
    "# Unite act and act_disaggregado in terms of date and id\n",
    "#act_actDisagg = act_disag_cp.merge(act, how = 'left', on = ['id_patient'])\n",
    "#print('act_actDisagg dimensions: ', act_actDisagg.shape)\n",
    "# Merge adherence with both datasets:\n",
    "merge_adh_act = ovu.merge_on_closest_date(df1=adherence_change_analysis, \n",
    "                                          df2=act_disag_cp, \n",
    "                                          date_field_df1='survey_date', \n",
    "                                          date_field_df2='date_result', \n",
    "                                          merge_on='id_patient')\n",
    "print('merge_adh_act dimensions: ', merge_adh_act.shape)\n"
   ]
  },
  {
   "cell_type": "code",
   "execution_count": 166,
   "metadata": {},
   "outputs": [
    {
     "data": {
      "text/plain": [
       "Index(['id_patient', 'survey_date', 'category', 'qualitative_result',\n",
       "       'qualitative_result_change', 'days_since_last_control',\n",
       "       'ongoing_adherence_percentage', 'num_reports', 'days_since_date_result',\n",
       "       'date_result', 'A_ACT', 'B_ACT', 'C_ACT', 'D_ACT', 'FEEDBACK'],\n",
       "      dtype='object')"
      ]
     },
     "execution_count": 166,
     "metadata": {},
     "output_type": "execute_result"
    }
   ],
   "source": [
    "merge_adh_act.columns"
   ]
  },
  {
   "cell_type": "code",
   "execution_count": 178,
   "metadata": {},
   "outputs": [
    {
     "name": "stdout",
     "output_type": "stream",
     "text": [
      "(4800, 15)\n"
     ]
    },
    {
     "data": {
      "text/html": [
       "<div>\n",
       "<style scoped>\n",
       "    .dataframe tbody tr th:only-of-type {\n",
       "        vertical-align: middle;\n",
       "    }\n",
       "\n",
       "    .dataframe tbody tr th {\n",
       "        vertical-align: top;\n",
       "    }\n",
       "\n",
       "    .dataframe thead th {\n",
       "        text-align: right;\n",
       "    }\n",
       "</style>\n",
       "<table border=\"1\" class=\"dataframe\">\n",
       "  <thead>\n",
       "    <tr style=\"text-align: right;\">\n",
       "      <th></th>\n",
       "      <th>id_patient</th>\n",
       "      <th>survey_date</th>\n",
       "      <th>category</th>\n",
       "      <th>qualitative_result</th>\n",
       "      <th>qualitative_result_change</th>\n",
       "      <th>days_since_last_control</th>\n",
       "      <th>ongoing_adherence_percentage</th>\n",
       "      <th>num_reports</th>\n",
       "      <th>days_since_act_test</th>\n",
       "      <th>date_result</th>\n",
       "      <th>A_ACT</th>\n",
       "      <th>B_ACT</th>\n",
       "      <th>C_ACT</th>\n",
       "      <th>D_ACT</th>\n",
       "      <th>FEEDBACK</th>\n",
       "    </tr>\n",
       "  </thead>\n",
       "  <tbody>\n",
       "    <tr>\n",
       "      <th>0</th>\n",
       "      <td>502989</td>\n",
       "      <td>2014-10-28</td>\n",
       "      <td>M</td>\n",
       "      <td>0.0</td>\n",
       "      <td>0.0</td>\n",
       "      <td>67.0</td>\n",
       "      <td>0.0</td>\n",
       "      <td>2</td>\n",
       "      <td>0.0</td>\n",
       "      <td>2014-10-28</td>\n",
       "      <td>0</td>\n",
       "      <td>0</td>\n",
       "      <td>1</td>\n",
       "      <td>0</td>\n",
       "      <td>0</td>\n",
       "    </tr>\n",
       "    <tr>\n",
       "      <th>1</th>\n",
       "      <td>502989</td>\n",
       "      <td>2014-10-28</td>\n",
       "      <td>M</td>\n",
       "      <td>0.0</td>\n",
       "      <td>0.0</td>\n",
       "      <td>67.0</td>\n",
       "      <td>0.0</td>\n",
       "      <td>2</td>\n",
       "      <td>0.0</td>\n",
       "      <td>2014-10-28</td>\n",
       "      <td>0</td>\n",
       "      <td>1</td>\n",
       "      <td>0</td>\n",
       "      <td>0</td>\n",
       "      <td>0</td>\n",
       "    </tr>\n",
       "    <tr>\n",
       "      <th>2</th>\n",
       "      <td>502989</td>\n",
       "      <td>2014-10-28</td>\n",
       "      <td>M</td>\n",
       "      <td>0.0</td>\n",
       "      <td>0.0</td>\n",
       "      <td>67.0</td>\n",
       "      <td>0.0</td>\n",
       "      <td>2</td>\n",
       "      <td>0.0</td>\n",
       "      <td>2014-10-28</td>\n",
       "      <td>1</td>\n",
       "      <td>0</td>\n",
       "      <td>0</td>\n",
       "      <td>0</td>\n",
       "      <td>0</td>\n",
       "    </tr>\n",
       "    <tr>\n",
       "      <th>3</th>\n",
       "      <td>502989</td>\n",
       "      <td>2014-10-28</td>\n",
       "      <td>M</td>\n",
       "      <td>0.0</td>\n",
       "      <td>0.0</td>\n",
       "      <td>67.0</td>\n",
       "      <td>0.0</td>\n",
       "      <td>2</td>\n",
       "      <td>0.0</td>\n",
       "      <td>2014-10-28</td>\n",
       "      <td>0</td>\n",
       "      <td>0</td>\n",
       "      <td>0</td>\n",
       "      <td>1</td>\n",
       "      <td>0</td>\n",
       "    </tr>\n",
       "    <tr>\n",
       "      <th>4</th>\n",
       "      <td>502989</td>\n",
       "      <td>2014-10-28</td>\n",
       "      <td>M</td>\n",
       "      <td>0.0</td>\n",
       "      <td>0.0</td>\n",
       "      <td>67.0</td>\n",
       "      <td>0.0</td>\n",
       "      <td>2</td>\n",
       "      <td>0.0</td>\n",
       "      <td>2014-10-28</td>\n",
       "      <td>0</td>\n",
       "      <td>0</td>\n",
       "      <td>0</td>\n",
       "      <td>0</td>\n",
       "      <td>4</td>\n",
       "    </tr>\n",
       "    <tr>\n",
       "      <th>...</th>\n",
       "      <td>...</td>\n",
       "      <td>...</td>\n",
       "      <td>...</td>\n",
       "      <td>...</td>\n",
       "      <td>...</td>\n",
       "      <td>...</td>\n",
       "      <td>...</td>\n",
       "      <td>...</td>\n",
       "      <td>...</td>\n",
       "      <td>...</td>\n",
       "      <td>...</td>\n",
       "      <td>...</td>\n",
       "      <td>...</td>\n",
       "      <td>...</td>\n",
       "      <td>...</td>\n",
       "    </tr>\n",
       "    <tr>\n",
       "      <th>13585</th>\n",
       "      <td>1999629</td>\n",
       "      <td>2018-10-08</td>\n",
       "      <td>A</td>\n",
       "      <td>1.0</td>\n",
       "      <td>0.0</td>\n",
       "      <td>157.0</td>\n",
       "      <td>100.0</td>\n",
       "      <td>3</td>\n",
       "      <td>13.0</td>\n",
       "      <td>2018-09-25</td>\n",
       "      <td>0</td>\n",
       "      <td>0</td>\n",
       "      <td>1</td>\n",
       "      <td>0</td>\n",
       "      <td>0</td>\n",
       "    </tr>\n",
       "    <tr>\n",
       "      <th>13586</th>\n",
       "      <td>1999629</td>\n",
       "      <td>2018-10-08</td>\n",
       "      <td>A</td>\n",
       "      <td>1.0</td>\n",
       "      <td>0.0</td>\n",
       "      <td>157.0</td>\n",
       "      <td>100.0</td>\n",
       "      <td>3</td>\n",
       "      <td>13.0</td>\n",
       "      <td>2018-09-25</td>\n",
       "      <td>0</td>\n",
       "      <td>1</td>\n",
       "      <td>0</td>\n",
       "      <td>0</td>\n",
       "      <td>0</td>\n",
       "    </tr>\n",
       "    <tr>\n",
       "      <th>13587</th>\n",
       "      <td>1999629</td>\n",
       "      <td>2018-10-08</td>\n",
       "      <td>A</td>\n",
       "      <td>1.0</td>\n",
       "      <td>0.0</td>\n",
       "      <td>157.0</td>\n",
       "      <td>100.0</td>\n",
       "      <td>3</td>\n",
       "      <td>13.0</td>\n",
       "      <td>2018-09-25</td>\n",
       "      <td>1</td>\n",
       "      <td>0</td>\n",
       "      <td>0</td>\n",
       "      <td>0</td>\n",
       "      <td>0</td>\n",
       "    </tr>\n",
       "    <tr>\n",
       "      <th>13588</th>\n",
       "      <td>1999629</td>\n",
       "      <td>2018-10-08</td>\n",
       "      <td>A</td>\n",
       "      <td>1.0</td>\n",
       "      <td>0.0</td>\n",
       "      <td>157.0</td>\n",
       "      <td>100.0</td>\n",
       "      <td>3</td>\n",
       "      <td>13.0</td>\n",
       "      <td>2018-09-25</td>\n",
       "      <td>0</td>\n",
       "      <td>0</td>\n",
       "      <td>0</td>\n",
       "      <td>1</td>\n",
       "      <td>0</td>\n",
       "    </tr>\n",
       "    <tr>\n",
       "      <th>13589</th>\n",
       "      <td>1999629</td>\n",
       "      <td>2018-10-08</td>\n",
       "      <td>A</td>\n",
       "      <td>1.0</td>\n",
       "      <td>0.0</td>\n",
       "      <td>157.0</td>\n",
       "      <td>100.0</td>\n",
       "      <td>3</td>\n",
       "      <td>13.0</td>\n",
       "      <td>2018-09-25</td>\n",
       "      <td>0</td>\n",
       "      <td>0</td>\n",
       "      <td>0</td>\n",
       "      <td>0</td>\n",
       "      <td>4</td>\n",
       "    </tr>\n",
       "  </tbody>\n",
       "</table>\n",
       "<p>4800 rows × 15 columns</p>\n",
       "</div>"
      ],
      "text/plain": [
       "       id_patient survey_date category  qualitative_result  \\\n",
       "0          502989  2014-10-28        M                 0.0   \n",
       "1          502989  2014-10-28        M                 0.0   \n",
       "2          502989  2014-10-28        M                 0.0   \n",
       "3          502989  2014-10-28        M                 0.0   \n",
       "4          502989  2014-10-28        M                 0.0   \n",
       "...           ...         ...      ...                 ...   \n",
       "13585     1999629  2018-10-08        A                 1.0   \n",
       "13586     1999629  2018-10-08        A                 1.0   \n",
       "13587     1999629  2018-10-08        A                 1.0   \n",
       "13588     1999629  2018-10-08        A                 1.0   \n",
       "13589     1999629  2018-10-08        A                 1.0   \n",
       "\n",
       "       qualitative_result_change  days_since_last_control  \\\n",
       "0                            0.0                     67.0   \n",
       "1                            0.0                     67.0   \n",
       "2                            0.0                     67.0   \n",
       "3                            0.0                     67.0   \n",
       "4                            0.0                     67.0   \n",
       "...                          ...                      ...   \n",
       "13585                        0.0                    157.0   \n",
       "13586                        0.0                    157.0   \n",
       "13587                        0.0                    157.0   \n",
       "13588                        0.0                    157.0   \n",
       "13589                        0.0                    157.0   \n",
       "\n",
       "       ongoing_adherence_percentage  num_reports  days_since_act_test  \\\n",
       "0                               0.0            2                  0.0   \n",
       "1                               0.0            2                  0.0   \n",
       "2                               0.0            2                  0.0   \n",
       "3                               0.0            2                  0.0   \n",
       "4                               0.0            2                  0.0   \n",
       "...                             ...          ...                  ...   \n",
       "13585                         100.0            3                 13.0   \n",
       "13586                         100.0            3                 13.0   \n",
       "13587                         100.0            3                 13.0   \n",
       "13588                         100.0            3                 13.0   \n",
       "13589                         100.0            3                 13.0   \n",
       "\n",
       "      date_result  A_ACT  B_ACT  C_ACT  D_ACT  FEEDBACK  \n",
       "0      2014-10-28      0      0      1      0         0  \n",
       "1      2014-10-28      0      1      0      0         0  \n",
       "2      2014-10-28      1      0      0      0         0  \n",
       "3      2014-10-28      0      0      0      1         0  \n",
       "4      2014-10-28      0      0      0      0         4  \n",
       "...           ...    ...    ...    ...    ...       ...  \n",
       "13585  2018-09-25      0      0      1      0         0  \n",
       "13586  2018-09-25      0      1      0      0         0  \n",
       "13587  2018-09-25      1      0      0      0         0  \n",
       "13588  2018-09-25      0      0      0      1         0  \n",
       "13589  2018-09-25      0      0      0      0         4  \n",
       "\n",
       "[4800 rows x 15 columns]"
      ]
     },
     "execution_count": 178,
     "metadata": {},
     "output_type": "execute_result"
    }
   ],
   "source": [
    "merge_adh_act.rename(columns={'days_since_date_result':'days_since_act_test'}, inplace=True)\n",
    "period = 30\n",
    "aclq_timely_act = merge_adh_act[merge_adh_act.days_since_act_test <= period]\n",
    "aclq_late_act = merge_adh_act[merge_adh_act.days_since_act_test > period]\n",
    "print(aclq_timely_act.shape)\n",
    "aclq_timely_act"
   ]
  },
  {
   "cell_type": "code",
   "execution_count": 204,
   "metadata": {},
   "outputs": [
    {
     "name": "stdout",
     "output_type": "stream",
     "text": [
      "aclq_timely_summary_act dimensions:  (948, 8)\n",
      "merge_adh_ALL_act_dysp dimensions:  (4773, 16)\n"
     ]
    }
   ],
   "source": [
    "aclq_timely_summary_act = pd.DataFrame()\n",
    "for (patient, survey_date), df in aclq_timely_act.groupby(['id_patient', 'survey_date']):\n",
    "    aclq_timely_summary_act = aclq_timely_summary_act.append({\n",
    "        'id_patient': patient,\n",
    "        'survey_date': survey_date,\n",
    "        'days_since_act_test': df.iloc[-1]['days_since_act_test'],\n",
    "       # 'act_score':df.iloc[-1]['act_score'],\n",
    "        #'result': df.iloc[-1]['result'],\n",
    "        'A_ACT': df.A_ACT.sum(),\n",
    "        'B_ACT': df.B_ACT.sum(),\n",
    "        'C_ACT': df.C_ACT.sum(),\n",
    "        'D_ACT': df.D_ACT.sum(),\n",
    "        'FEEDBACK': df.iloc[-1]['FEEDBACK'],      \n",
    "        \n",
    "    }, ignore_index=True)\n",
    "print('aclq_timely_summary_act dimensions: ', aclq_timely_summary_act.shape)\n",
    "\n",
    "merge_adh_ALL_act_dysp = merge_all_dyspnea.merge(aclq_timely_summary_act, how='left', on=['id_patient', 'survey_date'])    \n",
    "print('merge_adh_ALL_act_dysp dimensions: ', merge_adh_ALL_act_dysp.shape)"
   ]
  },
  {
   "cell_type": "code",
   "execution_count": 207,
   "metadata": {},
   "outputs": [
    {
     "data": {
      "text/html": [
       "<div>\n",
       "<style scoped>\n",
       "    .dataframe tbody tr th:only-of-type {\n",
       "        vertical-align: middle;\n",
       "    }\n",
       "\n",
       "    .dataframe tbody tr th {\n",
       "        vertical-align: top;\n",
       "    }\n",
       "\n",
       "    .dataframe thead th {\n",
       "        text-align: right;\n",
       "    }\n",
       "</style>\n",
       "<table border=\"1\" class=\"dataframe\">\n",
       "  <thead>\n",
       "    <tr style=\"text-align: right;\">\n",
       "      <th></th>\n",
       "      <th>A_ACT</th>\n",
       "      <th>B_ACT</th>\n",
       "      <th>C_ACT</th>\n",
       "      <th>D_ACT</th>\n",
       "      <th>FEEDBACK</th>\n",
       "      <th>days_since_act_test</th>\n",
       "      <th>id_patient</th>\n",
       "      <th>survey_date</th>\n",
       "    </tr>\n",
       "  </thead>\n",
       "  <tbody>\n",
       "    <tr>\n",
       "      <th>0</th>\n",
       "      <td>1.0</td>\n",
       "      <td>1.0</td>\n",
       "      <td>1.0</td>\n",
       "      <td>1.0</td>\n",
       "      <td>4.0</td>\n",
       "      <td>0.0</td>\n",
       "      <td>502989.0</td>\n",
       "      <td>2014-10-28</td>\n",
       "    </tr>\n",
       "    <tr>\n",
       "      <th>1</th>\n",
       "      <td>1.0</td>\n",
       "      <td>1.0</td>\n",
       "      <td>1.0</td>\n",
       "      <td>1.0</td>\n",
       "      <td>4.0</td>\n",
       "      <td>24.0</td>\n",
       "      <td>502989.0</td>\n",
       "      <td>2014-11-21</td>\n",
       "    </tr>\n",
       "    <tr>\n",
       "      <th>2</th>\n",
       "      <td>3.0</td>\n",
       "      <td>1.0</td>\n",
       "      <td>2.0</td>\n",
       "      <td>2.0</td>\n",
       "      <td>4.0</td>\n",
       "      <td>0.0</td>\n",
       "      <td>502989.0</td>\n",
       "      <td>2017-01-03</td>\n",
       "    </tr>\n",
       "    <tr>\n",
       "      <th>3</th>\n",
       "      <td>2.0</td>\n",
       "      <td>2.0</td>\n",
       "      <td>2.0</td>\n",
       "      <td>2.0</td>\n",
       "      <td>5.0</td>\n",
       "      <td>8.0</td>\n",
       "      <td>502989.0</td>\n",
       "      <td>2018-10-03</td>\n",
       "    </tr>\n",
       "    <tr>\n",
       "      <th>4</th>\n",
       "      <td>1.0</td>\n",
       "      <td>1.0</td>\n",
       "      <td>2.0</td>\n",
       "      <td>1.0</td>\n",
       "      <td>4.0</td>\n",
       "      <td>14.0</td>\n",
       "      <td>506808.0</td>\n",
       "      <td>2018-10-08</td>\n",
       "    </tr>\n",
       "    <tr>\n",
       "      <th>...</th>\n",
       "      <td>...</td>\n",
       "      <td>...</td>\n",
       "      <td>...</td>\n",
       "      <td>...</td>\n",
       "      <td>...</td>\n",
       "      <td>...</td>\n",
       "      <td>...</td>\n",
       "      <td>...</td>\n",
       "    </tr>\n",
       "    <tr>\n",
       "      <th>943</th>\n",
       "      <td>3.0</td>\n",
       "      <td>2.0</td>\n",
       "      <td>3.0</td>\n",
       "      <td>5.0</td>\n",
       "      <td>3.0</td>\n",
       "      <td>0.0</td>\n",
       "      <td>1997065.0</td>\n",
       "      <td>2017-03-13</td>\n",
       "    </tr>\n",
       "    <tr>\n",
       "      <th>944</th>\n",
       "      <td>1.0</td>\n",
       "      <td>1.0</td>\n",
       "      <td>1.0</td>\n",
       "      <td>1.0</td>\n",
       "      <td>5.0</td>\n",
       "      <td>18.0</td>\n",
       "      <td>1997065.0</td>\n",
       "      <td>2018-10-09</td>\n",
       "    </tr>\n",
       "    <tr>\n",
       "      <th>945</th>\n",
       "      <td>1.0</td>\n",
       "      <td>1.0</td>\n",
       "      <td>1.0</td>\n",
       "      <td>1.0</td>\n",
       "      <td>5.0</td>\n",
       "      <td>0.0</td>\n",
       "      <td>1998401.0</td>\n",
       "      <td>2016-06-02</td>\n",
       "    </tr>\n",
       "    <tr>\n",
       "      <th>946</th>\n",
       "      <td>1.0</td>\n",
       "      <td>1.0</td>\n",
       "      <td>2.0</td>\n",
       "      <td>1.0</td>\n",
       "      <td>5.0</td>\n",
       "      <td>0.0</td>\n",
       "      <td>1999629.0</td>\n",
       "      <td>2018-05-04</td>\n",
       "    </tr>\n",
       "    <tr>\n",
       "      <th>947</th>\n",
       "      <td>1.0</td>\n",
       "      <td>1.0</td>\n",
       "      <td>1.0</td>\n",
       "      <td>1.0</td>\n",
       "      <td>4.0</td>\n",
       "      <td>13.0</td>\n",
       "      <td>1999629.0</td>\n",
       "      <td>2018-10-08</td>\n",
       "    </tr>\n",
       "  </tbody>\n",
       "</table>\n",
       "<p>948 rows × 8 columns</p>\n",
       "</div>"
      ],
      "text/plain": [
       "     A_ACT  B_ACT  C_ACT  D_ACT  FEEDBACK  days_since_act_test  id_patient  \\\n",
       "0      1.0    1.0    1.0    1.0       4.0                  0.0    502989.0   \n",
       "1      1.0    1.0    1.0    1.0       4.0                 24.0    502989.0   \n",
       "2      3.0    1.0    2.0    2.0       4.0                  0.0    502989.0   \n",
       "3      2.0    2.0    2.0    2.0       5.0                  8.0    502989.0   \n",
       "4      1.0    1.0    2.0    1.0       4.0                 14.0    506808.0   \n",
       "..     ...    ...    ...    ...       ...                  ...         ...   \n",
       "943    3.0    2.0    3.0    5.0       3.0                  0.0   1997065.0   \n",
       "944    1.0    1.0    1.0    1.0       5.0                 18.0   1997065.0   \n",
       "945    1.0    1.0    1.0    1.0       5.0                  0.0   1998401.0   \n",
       "946    1.0    1.0    2.0    1.0       5.0                  0.0   1999629.0   \n",
       "947    1.0    1.0    1.0    1.0       4.0                 13.0   1999629.0   \n",
       "\n",
       "    survey_date  \n",
       "0    2014-10-28  \n",
       "1    2014-11-21  \n",
       "2    2017-01-03  \n",
       "3    2018-10-03  \n",
       "4    2018-10-08  \n",
       "..          ...  \n",
       "943  2017-03-13  \n",
       "944  2018-10-09  \n",
       "945  2016-06-02  \n",
       "946  2018-05-04  \n",
       "947  2018-10-08  \n",
       "\n",
       "[948 rows x 8 columns]"
      ]
     },
     "execution_count": 207,
     "metadata": {},
     "output_type": "execute_result"
    }
   ],
   "source": [
    "aclq_timely_summary_act"
   ]
  },
  {
   "cell_type": "code",
   "execution_count": 208,
   "metadata": {},
   "outputs": [
    {
     "name": "stdout",
     "output_type": "stream",
     "text": [
      "<class 'pandas.core.frame.DataFrame'>\n",
      "Int64Index: 4773 entries, 0 to 4772\n",
      "Data columns (total 16 columns):\n",
      " #   Column                        Non-Null Count  Dtype         \n",
      "---  ------                        --------------  -----         \n",
      " 0   id_patient                    4773 non-null   int64         \n",
      " 1   survey_date                   4773 non-null   datetime64[ns]\n",
      " 2   category                      4773 non-null   category      \n",
      " 3   qualitative_result            4773 non-null   float64       \n",
      " 4   qualitative_result_change     4773 non-null   float64       \n",
      " 5   days_since_last_control       4773 non-null   float64       \n",
      " 6   ongoing_adherence_percentage  4773 non-null   float64       \n",
      " 7   num_reports                   4773 non-null   int64         \n",
      " 8   days_since_last_dyspnea_test  4773 non-null   float64       \n",
      " 9   medical_test                  4773 non-null   float64       \n",
      " 10  A_ACT                         949 non-null    float64       \n",
      " 11  B_ACT                         949 non-null    float64       \n",
      " 12  C_ACT                         949 non-null    float64       \n",
      " 13  D_ACT                         949 non-null    float64       \n",
      " 14  FEEDBACK                      949 non-null    float64       \n",
      " 15  days_since_act_test           949 non-null    float64       \n",
      "dtypes: category(1), datetime64[ns](1), float64(12), int64(2)\n",
      "memory usage: 601.5 KB\n"
     ]
    }
   ],
   "source": [
    "merge_adh_ALL_act_dysp.info()"
   ]
  },
  {
   "cell_type": "code",
   "execution_count": 210,
   "metadata": {},
   "outputs": [
    {
     "name": "stdout",
     "output_type": "stream",
     "text": [
      "<class 'pandas.core.frame.DataFrame'>\n",
      "Int64Index: 4773 entries, 0 to 4772\n",
      "Data columns (total 16 columns):\n",
      " #   Column                        Non-Null Count  Dtype         \n",
      "---  ------                        --------------  -----         \n",
      " 0   id_patient                    4773 non-null   int64         \n",
      " 1   survey_date                   4773 non-null   datetime64[ns]\n",
      " 2   category                      4773 non-null   category      \n",
      " 3   qualitative_result            4773 non-null   float64       \n",
      " 4   qualitative_result_change     4773 non-null   float64       \n",
      " 5   days_since_last_control       4773 non-null   float64       \n",
      " 6   ongoing_adherence_percentage  4773 non-null   float64       \n",
      " 7   num_reports                   4773 non-null   int64         \n",
      " 8   days_since_last_dyspnea_test  4773 non-null   float64       \n",
      " 9   medical_test                  4773 non-null   float64       \n",
      " 10  A_ACT                         4773 non-null   float64       \n",
      " 11  B_ACT                         4773 non-null   float64       \n",
      " 12  C_ACT                         4773 non-null   float64       \n",
      " 13  D_ACT                         4773 non-null   float64       \n",
      " 14  FEEDBACK                      4773 non-null   float64       \n",
      " 15  days_since_act_test           4773 non-null   float64       \n",
      "dtypes: category(1), datetime64[ns](1), float64(12), int64(2)\n",
      "memory usage: 601.5 KB\n"
     ]
    }
   ],
   "source": [
    "merge_adh_ALL_act_dysp['A_ACT'] = merge_adh_ALL_act_dysp['A_ACT'].fillna(0)\n",
    "merge_adh_ALL_act_dysp['B_ACT'] = merge_adh_ALL_act_dysp['B_ACT'].fillna(0)\n",
    "merge_adh_ALL_act_dysp['C_ACT'] = merge_adh_ALL_act_dysp['C_ACT'].fillna(0)\n",
    "merge_adh_ALL_act_dysp['D_ACT'] = merge_adh_ALL_act_dysp['D_ACT'].fillna(0)\n",
    "merge_adh_ALL_act_dysp['FEEDBACK'] = merge_adh_ALL_act_dysp['FEEDBACK'].fillna(0)\n",
    "merge_adh_ALL_act_dysp['days_since_act_test'] = merge_adh_ALL_act_dysp['days_since_act_test'].fillna(0)\n",
    "merge_adh_ALL_act_dysp.info()"
   ]
  },
  {
   "cell_type": "code",
   "execution_count": 214,
   "metadata": {},
   "outputs": [
    {
     "data": {
      "text/plain": [
       "(329, 16)"
      ]
     },
     "execution_count": 214,
     "metadata": {},
     "output_type": "execute_result"
    }
   ],
   "source": [
    "# Merging adherence and vaccination datasets  \n",
    "merge_adh__med = ovu.merge_on_closest_date(df1=adherence_change_analysis, \n",
    "                                          df2=vacc, \n",
    "                                          date_field_df1='survey_date', \n",
    "                                          date_field_df2='emission_date', \n",
    "                                          merge_on='id_patient')\n",
    "merge_adh__med.shape"
   ]
  },
  {
   "cell_type": "code",
   "execution_count": 215,
   "metadata": {},
   "outputs": [
    {
     "data": {
      "text/plain": [
       "Text(0.5, 1, 'Correlation Matrix')"
      ]
     },
     "execution_count": 215,
     "metadata": {},
     "output_type": "execute_result"
    },
    {
     "data": {
      "image/png": "[encoded data removed]",
      "text/plain": [
       "<Figure size 864x504 with 2 Axes>"
      ]
     },
     "metadata": {
      "needs_background": "light"
     },
     "output_type": "display_data"
    }
   ],
   "source": [
    "adherence_1_corr = merge_adh_ALL_act_dysp.corr()\n",
    "fig, ax = plt.subplots(figsize=(12,7))\n",
    "sns.heatmap(adherence_1_corr, annot=True, fmt=\".2f\", ax=ax, center=0, vmin=-1.0, vmax=1.0)\n",
    "plt.title(\"Correlation Matrix\")"
   ]
  },
  {
   "cell_type": "code",
   "execution_count": 218,
   "metadata": {},
   "outputs": [],
   "source": [
    "merge_modelable = merge_adh_ALL_act_dysp.copy()"
   ]
  },
  {
   "cell_type": "code",
   "execution_count": 220,
   "metadata": {},
   "outputs": [
    {
     "name": "stdout",
     "output_type": "stream",
     "text": [
      "<class 'pandas.core.frame.DataFrame'>\n",
      "Int64Index: 4773 entries, 0 to 4772\n",
      "Data columns (total 16 columns):\n",
      " #   Column                        Non-Null Count  Dtype         \n",
      "---  ------                        --------------  -----         \n",
      " 0   id_patient                    4773 non-null   int64         \n",
      " 1   survey_date                   4773 non-null   datetime64[ns]\n",
      " 2   category                      4773 non-null   category      \n",
      " 3   qualitative_result            4773 non-null   float64       \n",
      " 4   qualitative_result_change     4773 non-null   float64       \n",
      " 5   days_since_last_control       4773 non-null   float64       \n",
      " 6   ongoing_adherence_percentage  4773 non-null   float64       \n",
      " 7   num_reports                   4773 non-null   int64         \n",
      " 8   days_since_last_dyspnea_test  4773 non-null   float64       \n",
      " 9   medical_test                  4773 non-null   float64       \n",
      " 10  A_ACT                         4773 non-null   float64       \n",
      " 11  B_ACT                         4773 non-null   float64       \n",
      " 12  C_ACT                         4773 non-null   float64       \n",
      " 13  D_ACT                         4773 non-null   float64       \n",
      " 14  FEEDBACK                      4773 non-null   float64       \n",
      " 15  days_since_act_test           4773 non-null   float64       \n",
      "dtypes: category(1), datetime64[ns](1), float64(12), int64(2)\n",
      "memory usage: 601.5 KB\n"
     ]
    }
   ],
   "source": [
    "merge_modelable.info()"
   ]
  },
  {
   "cell_type": "code",
   "execution_count": 269,
   "metadata": {},
   "outputs": [
    {
     "data": {
      "text/plain": [
       "array([1., 0.])"
      ]
     },
     "execution_count": 269,
     "metadata": {},
     "output_type": "execute_result"
    }
   ],
   "source": [
    "merge_modelable['qualitative_result'].unique()"
   ]
  },
  {
   "cell_type": "markdown",
   "metadata": {},
   "source": [
    "Model training"
   ]
  },
  {
   "cell_type": "code",
   "execution_count": 221,
   "metadata": {},
   "outputs": [],
   "source": [
    "def train(self):\n",
    "    \"\"\"Train two models: one Random forest classifier and one based on XGBoost\"\"\"\n",
    "    if not self.rforest and not self.xgboost:\n",
    "        covariates = self.data.columns[~self.data.columns.isin(['id_patient', 'qualitative_result', 'survey_date', 'birthdate', 'num_reports'])]\n",
    "        print('> Training Random Forest classifier...')\n",
    "        self.rforest = RandomForestClassifier(n_estimators=100, max_depth=8, random_state=0)\n",
    "        self.rforest.fit(self.data[covariates], self.data['qualitative_result'])\n",
    "        y_pred_rf = self.rforest.predict(self.data[covariates])\n",
    "        accuracy_rf = accuracy_score(self.data['qualitative_result'], y_pred_rf)\n",
    "        print(\"> Done. Accuracy: %.2f%%\" % (accuracy_rf * 100.0))\n",
    "\n",
    "        print('> Training XGBoost classifier...')\n",
    "        params={\n",
    "            'reg_alpha': 23, \n",
    "            'max_depth': 8, \n",
    "            'learning_rate': 0.01, \n",
    "            'gamma': 1.0\n",
    "        }\n",
    "        self.xgboost = XGBClassifier(random_state=0, booster='gbtree', **params)\n",
    "        self.xgboost.fit(self.data[covariates], self.data['qualitative_result'])\n",
    "        y_pred_xg = self.xgboost.predict(self.data[covariates])\n",
    "        predictions_xg = [round(value) for value in y_pred_xg]\n",
    "        accuracy_xg = accuracy_score(self.data['qualitative_result'], predictions_xg)\n",
    "        print(\"> Done. Accuracy: %.2f%%\" % (accuracy_xg * 100.0))\n",
    "\n",
    "    return (self.rforest, self.xgboost)"
   ]
  },
  {
   "cell_type": "code",
   "execution_count": 228,
   "metadata": {},
   "outputs": [
    {
     "data": {
      "image/png": "[encoded data removed]",
      "text/plain": [
       "<Figure size 432x288 with 1 Axes>"
      ]
     },
     "metadata": {
      "needs_background": "light"
     },
     "output_type": "display_data"
    }
   ],
   "source": [
    "#Model using all covariates:\n",
    "\n",
    "covariates1 = merge_modelable.columns[~merge_modelable.columns.isin(['id_patient', \n",
    "                                                                      'qualitative_result',\n",
    "                                                                       'category',\n",
    "                                                                       'survey_date',\n",
    "                                                                    'days_since_last_control',\n",
    "                                                                    'qualitative_result_change'])]\n",
    "depth = 7\n",
    "\n",
    "clf = DecisionTreeClassifier(max_depth = depth)\n",
    "clf = clf.fit(merge_modelable[covariates1], merge_modelable['qualitative_result'])\n",
    "\n",
    "clf_rf = RandomForestClassifier(n_estimators=100, max_depth=depth, random_state=0)\n",
    "clf_rf.fit(merge_modelable[covariates1], merge_modelable['qualitative_result'])\n",
    "clf_rf_probas = clf_rf.predict_proba(merge_modelable[covariates1])\n",
    "\n",
    "roc_p = roc_curve(merge_modelable['qualitative_result'], clf_rf_probas[:,1])\n",
    "auc_p = auc_p = auc( roc_p[0], roc_p[1] )\n",
    "\n",
    "plt.figure()\n",
    "line_width = 2\n",
    "plt.plot(roc_p[0], roc_p[1], color='darkorange', lw=line_width,\n",
    "         label=f\"ROC curve for Random Forest Classifier(AUC = {auc_p:0.2f})\")\n",
    "plt.plot([0, 1], [0, 1], color='navy', lw=line_width, linestyle='--', label='Random guess')\n",
    "plt.xlim([0.0, 1.0])\n",
    "plt.ylim([0.0, 1.05])\n",
    "plt.xlabel('False Positive Rate')\n",
    "plt.ylabel('True Positive Rate')\n",
    "plt.title('Classification of Non-Adherent patients')\n",
    "plt.legend(loc='lower right')\n",
    "plt.show()"
   ]
  },
  {
   "cell_type": "code",
   "execution_count": 224,
   "metadata": {},
   "outputs": [
    {
     "data": {
      "text/plain": [
       "Index(['ongoing_adherence_percentage', 'num_reports',\n",
       "       'days_since_last_dyspnea_test', 'medical_test', 'A_ACT', 'B_ACT',\n",
       "       'C_ACT', 'D_ACT', 'FEEDBACK', 'days_since_act_test'],\n",
       "      dtype='object')"
      ]
     },
     "execution_count": 224,
     "metadata": {},
     "output_type": "execute_result"
    }
   ],
   "source": [
    "covariates1"
   ]
  },
  {
   "cell_type": "code",
   "execution_count": 223,
   "metadata": {},
   "outputs": [
    {
     "data": {
      "image/png": "[encoded data removed]",
      "text/plain": [
       "<Figure size 864x504 with 1 Axes>"
      ]
     },
     "metadata": {
      "needs_background": "light"
     },
     "output_type": "display_data"
    }
   ],
   "source": [
    "importances = clf_rf.feature_importances_\n",
    "std = np.std([tree.feature_importances_ for tree in clf_rf.estimators_],\n",
    "             axis=0)\n",
    "indices = np.argsort(importances)\n",
    "\n",
    "# Plot the impurity-based feature importances of the forest\n",
    "plt.figure(figsize=(12,7))\n",
    "plt.title(\"Feature importances\")\n",
    "plt.barh(merge_modelable[covariates1].columns[indices], importances[indices], yerr=std[indices], align=\"center\")\n",
    "plt.show()"
   ]
  },
  {
   "cell_type": "markdown",
   "metadata": {},
   "source": [
    "All covariates except num_reports"
   ]
  },
  {
   "cell_type": "code",
   "execution_count": 260,
   "metadata": {},
   "outputs": [],
   "source": [
    "#covariates2 = merge_modelable.columns[~merge_modelable.columns.isin(['id_patient', 'qualitative_result', 'survey_date', 'birthdate', 'num_reports','days_since_last_control',\n",
    " #                                                                   'qualitative_result_change','category','ongoing_adherence_percentage'])]\n",
    "\n",
    "covariates2 = merge_modelable.columns[~merge_modelable.columns.isin(['id_patient', \n",
    "                                                                      'qualitative_result',\n",
    "                                                                       'category',\n",
    "                                                                       'survey_date',\n",
    "                                                                    'qualitative_result_change',\n",
    "                                                                    'ongoing_adherence_percentage'])]"
   ]
  },
  {
   "cell_type": "code",
   "execution_count": 261,
   "metadata": {},
   "outputs": [
    {
     "data": {
      "image/png": "[encoded data removed]",
      "text/plain": [
       "<Figure size 432x288 with 1 Axes>"
      ]
     },
     "metadata": {
      "needs_background": "light"
     },
     "output_type": "display_data"
    }
   ],
   "source": [
    "clf = DecisionTreeClassifier(max_depth = 7)\n",
    "clf = clf.fit(merge_modelable[covariates2], merge_modelable['qualitative_result'])\n",
    "\n",
    "clf_rf = RandomForestClassifier(n_estimators=100, max_depth=depth, random_state=0)\n",
    "clf_rf.fit(merge_modelable[covariates2], merge_modelable['qualitative_result'])\n",
    "clf_rf_probas = clf_rf.predict_proba(merge_modelable[covariates2])\n",
    "\n",
    "roc_p = roc_curve(merge_modelable['qualitative_result'], clf_rf_probas[:,1])\n",
    "auc_p = auc_p = auc( roc_p[0], roc_p[1] )\n",
    "\n",
    "plt.figure()\n",
    "line_width = 2\n",
    "plt.plot(roc_p[0], roc_p[1], color='darkorange', lw=line_width,\n",
    "         label=f\"ROC curve for Random Forest Classifier(AUC = {auc_p:0.2f})\")\n",
    "plt.plot([0, 1], [0, 1], color='navy', lw=line_width, linestyle='--', label='Random guess')\n",
    "plt.xlim([0.0, 1.0])\n",
    "plt.ylim([0.0, 1.05])\n",
    "plt.xlabel('False Positive Rate')\n",
    "plt.ylabel('True Positive Rate')\n",
    "plt.title('Classification of Non-Adherent patients')\n",
    "plt.legend(loc='lower right')\n",
    "plt.show()"
   ]
  },
  {
   "cell_type": "code",
   "execution_count": 262,
   "metadata": {},
   "outputs": [
    {
     "data": {
      "image/png": "[encoded data removed]",
      "text/plain": [
       "<Figure size 864x504 with 1 Axes>"
      ]
     },
     "metadata": {
      "needs_background": "light"
     },
     "output_type": "display_data"
    }
   ],
   "source": [
    "importances = clf_rf.feature_importances_\n",
    "std = np.std([tree.feature_importances_ for tree in clf_rf.estimators_],\n",
    "             axis=0)\n",
    "indices = np.argsort(importances)\n",
    "\n",
    "# Plot the impurity-based feature importances of the forest\n",
    "plt.figure(figsize=(12,7))\n",
    "plt.title(\"Feature importances\")\n",
    "plt.barh(merge_modelable[covariates1].columns[indices], importances[indices], yerr=std[indices], align=\"center\")\n",
    "plt.show()"
   ]
  },
  {
   "cell_type": "code",
   "execution_count": 264,
   "metadata": {},
   "outputs": [
    {
     "data": {
      "text/plain": [
       "(4392, 16)"
      ]
     },
     "metadata": {},
     "output_type": "display_data"
    },
    {
     "data": {
      "text/plain": [
       "(381, 16)"
      ]
     },
     "metadata": {},
     "output_type": "display_data"
    }
   ],
   "source": [
    "# Train and testing sets\n",
    "\n",
    "merge_modelable_train = merge_modelable[merge_modelable['survey_date'] < \"2020-01-01\"]\n",
    "merge_modelable_test = merge_modelable[merge_modelable['survey_date'] > \"2019-12-31\"]\n",
    "\n",
    "display(merge_modelable_train.shape)\n",
    "display(merge_modelable_test.shape)"
   ]
  },
  {
   "cell_type": "code",
   "execution_count": 265,
   "metadata": {},
   "outputs": [
    {
     "name": "stdout",
     "output_type": "stream",
     "text": [
      "Accuracy in training set: 0.8467668488160291\n",
      "Accuracy in the other samples: 0.8818897637795275\n"
     ]
    }
   ],
   "source": [
    "#Decision tree with covariates 1.\n",
    "clf_new = DecisionTreeClassifier(max_depth = depth)\n",
    "clf_new = clf_new.fit(merge_modelable_train[covariates1], merge_modelable_train['qualitative_result'])\n",
    "\n",
    "y_pred_train = clf_new.predict(merge_modelable_train[covariates1])\n",
    "y_pred_test = clf_new.predict(merge_modelable_test[covariates1])\n",
    "\n",
    "print(f\"Accuracy in training set: {accuracy_score(merge_modelable_train['qualitative_result'], y_pred_train)}\")\n",
    "print(f\"Accuracy in the other samples: {accuracy_score(merge_modelable_test['qualitative_result'], y_pred_test)}\")\n",
    "\n"
   ]
  },
  {
   "cell_type": "code",
   "execution_count": 266,
   "metadata": {},
   "outputs": [
    {
     "name": "stdout",
     "output_type": "stream",
     "text": [
      "Accuracy in training set: 0.7916666666666666\n",
      "Accuracy in the other samples: 0.910761154855643\n"
     ]
    }
   ],
   "source": [
    "#Decision tree with covariates 2.\n",
    "clf_new2 = DecisionTreeClassifier(max_depth = depth)\n",
    "clf_new2 = clf_new.fit(merge_modelable_train[covariates2], merge_modelable_train['qualitative_result'])\n",
    "\n",
    "y_pred_train2 = clf_new.predict(merge_modelable_train[covariates2])\n",
    "y_pred_test2 = clf_new.predict(merge_modelable_test[covariates2])\n",
    "\n",
    "print(f\"Accuracy in training set: {accuracy_score(merge_modelable_train['qualitative_result'], y_pred_train2)}\")\n",
    "print(f\"Accuracy in the other samples: {accuracy_score(merge_modelable_test['qualitative_result'], y_pred_test2)}\")"
   ]
  },
  {
   "cell_type": "code",
   "execution_count": 267,
   "metadata": {},
   "outputs": [
    {
     "name": "stdout",
     "output_type": "stream",
     "text": [
      "Accuracy in training set: 0.8535974499089253\n",
      "Accuracy in the other samples: 0.9186351706036745\n"
     ]
    }
   ],
   "source": [
    "#Random forest with covariates 1.\n",
    "clf_rf_new = RandomForestClassifier(n_estimators=100, max_depth=depth, random_state=0)\n",
    "clf_rf_new.fit(merge_modelable_train[covariates1], merge_modelable_train['qualitative_result'])\n",
    "\n",
    "y_pred_trainr = clf_rf_new.predict(merge_modelable_train[covariates1])\n",
    "y_pred_testr = clf_rf_new.predict(merge_modelable_test[covariates1])\n",
    "\n",
    "print(f\"Accuracy in training set: {accuracy_score(merge_modelable_train['qualitative_result'], y_pred_trainr)}\")\n",
    "print(f\"Accuracy in the other samples: {accuracy_score(merge_modelable_test['qualitative_result'], y_pred_testr)}\")"
   ]
  },
  {
   "cell_type": "code",
   "execution_count": 268,
   "metadata": {},
   "outputs": [
    {
     "name": "stdout",
     "output_type": "stream",
     "text": [
      "Accuracy in training set: 0.787568306010929\n",
      "Accuracy in the other samples: 0.931758530183727\n"
     ]
    }
   ],
   "source": [
    "#Random forest with covariates 2.\n",
    "clf_rf_new2 = RandomForestClassifier(n_estimators=100, max_depth=depth, random_state=0)\n",
    "clf_rf_new2.fit(merge_modelable_train[covariates2], merge_modelable_train['qualitative_result'])\n",
    "\n",
    "y_pred_trainr2 = clf_rf_new2.predict(merge_modelable_train[covariates2])\n",
    "y_pred_testr2 = clf_rf_new2.predict(merge_modelable_test[covariates2])\n",
    "\n",
    "print(f\"Accuracy in training set: {accuracy_score(merge_modelable_train['qualitative_result'], y_pred_trainr2)}\")\n",
    "print(f\"Accuracy in the other samples: {accuracy_score(merge_modelable_test['qualitative_result'], y_pred_testr2)}\")"
   ]
  },
  {
   "cell_type": "markdown",
   "metadata": {},
   "source": [
    "### xgboost"
   ]
  },
  {
   "cell_type": "code",
   "execution_count": 270,
   "metadata": {},
   "outputs": [
    {
     "data": {
      "text/plain": [
       "XGBClassifier(base_score=0.5, booster='gbtree', colsample_bylevel=1,\n",
       "              colsample_bynode=1, colsample_bytree=1, gamma=0, gpu_id=-1,\n",
       "              importance_type='gain', interaction_constraints='',\n",
       "              learning_rate=0.300000012, max_delta_step=0, max_depth=7,\n",
       "              min_child_weight=1, missing=nan, monotone_constraints='()',\n",
       "              n_estimators=100, n_jobs=0, num_parallel_tree=1,\n",
       "              objective='binary:logistic', random_state=0, reg_alpha=0,\n",
       "              reg_lambda=1, scale_pos_weight=1, subsample=1,\n",
       "              tree_method='exact', validate_parameters=1, verbosity=None)"
      ]
     },
     "execution_count": 270,
     "metadata": {},
     "output_type": "execute_result"
    }
   ],
   "source": [
    "#fit model on training data with covariates 2.\n",
    "xgb_model= XGBClassifier(max_depth=depth, random_state=0, booster='gbtree')\n",
    "xgb_model.fit(merge_modelable_train[covariates2], merge_modelable_train['qualitative_result'])"
   ]
  },
  {
   "cell_type": "code",
   "execution_count": 271,
   "metadata": {},
   "outputs": [
    {
     "name": "stdout",
     "output_type": "stream",
     "text": [
      "Accuracy: 85.56%\n"
     ]
    }
   ],
   "source": [
    "y_pred2 = xgb_model.predict(merge_modelable_test[covariates2])\n",
    "predictions2 = [round(value) for value in y_pred2]\n",
    "\n",
    "accuracy = accuracy_score(merge_modelable_test['qualitative_result'], predictions2)\n",
    "print(\"Accuracy: %.2f%%\" % (accuracy * 100.0))"
   ]
  },
  {
   "cell_type": "code",
   "execution_count": 272,
   "metadata": {},
   "outputs": [
    {
     "data": {
      "text/plain": [
       "<matplotlib.axes._subplots.AxesSubplot at 0x216809462c8>"
      ]
     },
     "execution_count": 272,
     "metadata": {},
     "output_type": "execute_result"
    },
    {
     "data": {
      "image/png": "[encoded data removed]",
      "text/plain": [
       "<Figure size 864x504 with 1 Axes>"
      ]
     },
     "metadata": {
      "needs_background": "light"
     },
     "output_type": "display_data"
    }
   ],
   "source": [
    "fig2, ax2 = plt.subplots(figsize=(12,7))\n",
    "xgb.plot_importance(xgb_model, ax=ax2)"
   ]
  },
  {
   "cell_type": "code",
   "execution_count": 273,
   "metadata": {},
   "outputs": [
    {
     "name": "stdout",
     "output_type": "stream",
     "text": [
      "{'reg_alpha': 21, 'max_depth': 7, 'learning_rate': 0.01, 'gamma': 0.8}\n",
      "0.9344497607655502\n"
     ]
    }
   ],
   "source": [
    "params_grid = {  \n",
    "    'learning_rate': [0.01, 0.02, 0.03, 0.04, 0.05],\n",
    "    'max_depth': [5,6,7,8,9,10,11,12],\n",
    "    'gamma': [0.1, 0.2, 0.3, 0.4, 0.5, 0.6, 0.7, 0.8, 1.0],\n",
    "    'reg_alpha': [20, 21, 22, 23, 24, 25]\n",
    "}\n",
    "\n",
    "search_sk = RandomizedSearchCV(xgb_model, params_grid, cv = 5) # 5 fold cross validation\n",
    "search_sk.fit(merge_modelable_test[covariates1], merge_modelable_test['qualitative_result'])\n",
    "\n",
    "# best parameters\n",
    "print(search_sk.best_params_)\n",
    "print(search_sk.best_score_)"
   ]
  },
  {
   "cell_type": "code",
   "execution_count": 274,
   "metadata": {},
   "outputs": [],
   "source": [
    "xgb_model_new = XGBClassifier(random_state=0, booster='gbtree', **search_sk.best_params_)\n",
    "xgb_model_new.fit(merge_modelable_train[covariates2], merge_modelable_train['qualitative_result']);"
   ]
  },
  {
   "cell_type": "code",
   "execution_count": 275,
   "metadata": {},
   "outputs": [
    {
     "name": "stdout",
     "output_type": "stream",
     "text": [
      "Accuracy: 93.18%\n"
     ]
    }
   ],
   "source": [
    "y_pred_new = xgb_model_new.predict(merge_modelable_test[covariates2])\n",
    "predictions_new = [round(value) for value in y_pred_new]\n",
    "\n",
    "accuracy = accuracy_score(merge_modelable_test['qualitative_result'], predictions_new)\n",
    "print(\"Accuracy: %.2f%%\" % (accuracy * 100.0))"
   ]
  },
  {
   "cell_type": "code",
   "execution_count": 276,
   "metadata": {},
   "outputs": [
    {
     "data": {
      "text/plain": [
       "<matplotlib.axes._subplots.AxesSubplot at 0x21680b2e2c8>"
      ]
     },
     "execution_count": 276,
     "metadata": {},
     "output_type": "execute_result"
    },
    {
     "data": {
      "image/png": "[encoded data removed]",
      "text/plain": [
       "<Figure size 864x504 with 1 Axes>"
      ]
     },
     "metadata": {
      "needs_background": "light"
     },
     "output_type": "display_data"
    }
   ],
   "source": [
    "fig, ax = plt.subplots(figsize=(12,7))\n",
    "xgb.plot_importance(xgb_model, ax=ax)"
   ]
  },
  {
   "cell_type": "code",
   "execution_count": 277,
   "metadata": {},
   "outputs": [
    {
     "name": "stdout",
     "output_type": "stream",
     "text": [
      "Accuracy: 79.30%\n"
     ]
    }
   ],
   "source": [
    "xgb_model_full = XGBClassifier(random_state=0, booster='gbtree', **search_sk.best_params_)\n",
    "xgb_model_full.fit(merge_modelable[covariates2], merge_modelable['qualitative_result'])\n",
    "\n",
    "y_pred_new = xgb_model_full.predict(merge_modelable[covariates2])\n",
    "predictions_new = [round(value) for value in y_pred_new]\n",
    "\n",
    "accuracy = accuracy_score(merge_modelable['qualitative_result'], predictions_new)\n",
    "print(\"Accuracy: %.2f%%\" % (accuracy * 100.0))"
   ]
  },
  {
   "cell_type": "markdown",
   "metadata": {},
   "source": [
    "### Evaluate these three models with cross validation"
   ]
  },
  {
   "cell_type": "code",
   "execution_count": 278,
   "metadata": {},
   "outputs": [],
   "source": [
    "def cv_roc_tree(X, y, n_split, algo='Tree', depth=10, params={}):\n",
    "    \n",
    "    cv = StratifiedKFold(n_split)\n",
    "    \n",
    "    tprs = []\n",
    "    aucs = []\n",
    "    mean_fpr = np.linspace(0, 1, 100)\n",
    "    for train, test in cv.split(X, y):\n",
    "        if algo == 'Tree':\n",
    "            clf = DecisionTreeClassifier()\n",
    "        elif algo == 'forest':\n",
    "            clf = RandomForestClassifier(n_estimators=100, max_depth=depth, random_state=0)\n",
    "        else:\n",
    "            clf = XGBClassifier(random_state=0, booster='gbtree', verbosity=0, **params)\n",
    "            \n",
    "                \n",
    "        clf = clf.fit(X.iloc[train], y.iloc[train])\n",
    "        probas_ = clf.predict_proba(X.iloc[test])\n",
    "        \n",
    "        # Compute ROC curve and area the curve\n",
    "        fpr, tpr, thresholds = roc_curve(y.iloc[test], probas_[:,1])\n",
    "        tprs.append(np.interp(mean_fpr, fpr, tpr))\n",
    "        tprs[-1][0] = 0.0\n",
    "        roc_auc = auc(fpr, tpr)\n",
    "        aucs.append(roc_auc)\n",
    "    \n",
    "    return tprs, aucs, mean_fpr"
   ]
  },
  {
   "cell_type": "code",
   "execution_count": 279,
   "metadata": {},
   "outputs": [
    {
     "data": {
      "text/plain": [
       "Text(0.5, 1.0, 'Tree-based Classification of Non-adherent patients: 5-fold Cross-validation')"
      ]
     },
     "execution_count": 279,
     "metadata": {},
     "output_type": "execute_result"
    },
    {
     "data": {
      "image/png": "[encoded data removed]",
      "text/plain": [
       "<Figure size 864x504 with 1 Axes>"
      ]
     },
     "metadata": {
      "needs_background": "light"
     },
     "output_type": "display_data"
    }
   ],
   "source": [
    "k_folds = 5\n",
    "tprs_t, aucs_t, mean_fpr_t = cv_roc_tree(merge_modelable[covariates1], merge_modelable['qualitative_result'], k_folds, depth=depth)\n",
    "tprs_f, aucs_f, mean_fpr_f = cv_roc_tree(merge_modelable[covariates1], merge_modelable['qualitative_result'], k_folds, algo='forest', depth=depth)\n",
    "tprs_x, aucs_x, mean_fpr_x = cv_roc_tree(merge_modelable[covariates1], merge_modelable['qualitative_result'], k_folds, algo='xgboost', params=search_sk.best_params_)\n",
    "\n",
    "plt.figure(figsize=(12,7))\n",
    "plt.plot([0, 1], [0, 1], linestyle='--', lw=2, color='blue', label='Random guess', alpha=.8)\n",
    "\n",
    "mean_tpr_t = np.mean(tprs_t, axis=0)\n",
    "mean_tpr_f = np.mean(tprs_f, axis=0)\n",
    "mean_tpr_x = np.mean(tprs_x, axis=0)\n",
    "mean_tpr_t[-1] = 1.0\n",
    "mean_tpr_f[-1] = 1.0\n",
    "mean_tpr_x[-1] = 1.0\n",
    "\n",
    "mean_auc_t = auc(mean_fpr_t, mean_tpr_t)\n",
    "mean_auc_f = auc(mean_fpr_f, mean_tpr_f)\n",
    "mean_auc_x = auc(mean_fpr_x, mean_tpr_x)\n",
    "std_auc_t = np.std(aucs_t)\n",
    "std_auc_f = np.std(aucs_f)\n",
    "std_auc_x = np.std(aucs_x)\n",
    "\n",
    "plt.plot(mean_fpr_t, mean_tpr_t, color='darkorange', lw=2, alpha=.8,\n",
    "         label=f\"Decision Tree: Cross-validated Mean ROC (AUC = {mean_auc_t:0.2f} $\\pm$ {std_auc_t:0.2f})\")\n",
    "plt.plot(mean_fpr_f, mean_tpr_f, color='red', lw=2, alpha=.8,\n",
    "         label=f\"Random Forest: Cross-validated Mean ROC (AUC = {mean_auc_f:0.2f} $\\pm$ {std_auc_f:0.2f})\")\n",
    "plt.plot(mean_fpr_x, mean_tpr_x, color='lightblue', lw=2, alpha=1.,\n",
    "         label=f\"XGBoost Classifier: Cross-validated Mean ROC (AUC = {mean_auc_x:0.2f} $\\pm$ {std_auc_x:0.2f})\")\n",
    "\n",
    "plt.xlabel('False Positive Rate')\n",
    "plt.ylabel('True Positive Rate')\n",
    "plt.legend(loc='lower right')\n",
    "plt.title(f'Tree-based Classification of Non-adherent patients: {k_folds}-fold Cross-validation')"
   ]
  },
  {
   "cell_type": "code",
   "execution_count": null,
   "metadata": {},
   "outputs": [],
   "source": []
  }
 ],
 "metadata": {
  "kernelspec": {
   "display_name": "Python 3",
   "language": "python",
   "name": "python3"
  },
  "language_info": {
   "codemirror_mode": {
    "name": "ipython",
    "version": 3
   },
   "file_extension": ".py",
   "mimetype": "text/x-python",
   "name": "python",
   "nbconvert_exporter": "python",
   "pygments_lexer": "ipython3",
   "version": "3.7.6"
  }
 },
 "nbformat": 4,
 "nbformat_minor": 2
}
